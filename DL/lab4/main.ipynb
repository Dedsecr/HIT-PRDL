{
 "cells": [
  {
   "cell_type": "code",
   "execution_count": 6,
   "metadata": {},
   "outputs": [],
   "source": [
    "!python .\\main.py --max_length 16 --embedding_size 32\n"
   ]
  },
  {
   "cell_type": "code",
   "execution_count": null,
   "metadata": {},
   "outputs": [],
   "source": [
    "!python .\\main.py --max_length 32 --embedding_size 32"
   ]
  }
 ],
 "metadata": {
  "interpreter": {
   "hash": "b692be9b2bdc535e6698bbd4b4272709a4ce78dee91207f9d3d40ae9643e02f4"
  },
  "kernelspec": {
   "display_name": "Python 3.7.8 ('pytorch11')",
   "language": "python",
   "name": "python3"
  },
  "language_info": {
   "codemirror_mode": {
    "name": "ipython",
    "version": 3
   },
   "file_extension": ".py",
   "mimetype": "text/x-python",
   "name": "python",
   "nbconvert_exporter": "python",
   "pygments_lexer": "ipython3",
   "version": "3.7.8"
  },
  "orig_nbformat": 4
 },
 "nbformat": 4,
 "nbformat_minor": 2
}
